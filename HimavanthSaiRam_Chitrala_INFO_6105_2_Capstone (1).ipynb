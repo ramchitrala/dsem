{
  "nbformat": 4,
  "nbformat_minor": 0,
  "metadata": {
    "colab": {
      "provenance": []
    },
    "kernelspec": {
      "name": "python3",
      "display_name": "Python 3"
    },
    "language_info": {
      "name": "python"
    }
  },
  "cells": [
    {
      "cell_type": "markdown",
      "source": [
        "![suno_ai_cover.jpeg](data:image/jpeg;base64,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)\n",
        "## **AI-Generated Songs from **Suno.com****\n",
        "This notebook showcases a collection of AI-generated songs provided by Suno upon prompts.com. These songs demonstrate the capabilities of Suno's advanced machine learning models in music production, aiming to inspire and educate users in the field of AI and music.\n",
        "\n",
        "### Abstract\n",
        "This notebook explores the application of advanced artificial intelligence in the creative field of music generation. Utilizing AI-powered tools provided by Suno.com, we delve into the process of automating song lyric creation across various genres and themes. The project demonstrates how AI can mimic human creativity and contribute significantly to artistic endeavors. Intended solely for educational purposes and not for commercial use."
      ],
      "metadata": {
        "id": "5Z8EeV3VkLNx"
      }
    },
    {
      "cell_type": "markdown",
      "source": [
        "## Song 1: Wired Connections\n",
        "\n",
        "**Prompt Used**:  \n",
        "Genre: Soulful  \n",
        "Mood: Happy  \n",
        "Theme: The song should explain step by step process of building a neural network in deep learning\n",
        "\n",
        "**Lyrics Generated by Suno**:\n",
        "\n",
        "[Verse]  \n",
        "Wires and circuits  \n",
        "Playing with my mind  \n",
        "Building up connections  \n",
        "One step at a time  \n",
        "Gotta feed the data  \n",
        "Make the system learn  \n",
        "Feel the pulse of progress  \n",
        "With each neuron's turn  \n",
        "\n",
        "Computing in the darkness  \n",
        "Code lighting up the way  \n",
        "Feeding inputs slowly  \n",
        "Watching them display  \n",
        "From the hidden layers  \n",
        "Patterns start to form  \n",
        "Neurons intertwined  \n",
        "A network being born  \n",
        "\n",
        "[Verse 2]  \n",
        "Training in the shadows  \n",
        "Finding patterns in the noise  \n",
        "Fine-tuning the model  \n",
        "Discovering its voice  \n",
        "With each iteration  \n",
        "Weights begin to align  \n",
        "Unleashing the potential  \n",
        "Of the AI design\n"
      ],
      "metadata": {
        "id": "WVzVRKN4nqkP"
      }
    },
    {
      "cell_type": "code",
      "execution_count": null,
      "metadata": {
        "id": "gH96uLpCIieN"
      },
      "outputs": [],
      "source": [
        "from IPython.display import Audio\n",
        "path_to_file = '/content/drive/My Drive/Wired Connections.mp3'\n",
        "Audio(path_to_file)"
      ]
    },
    {
      "cell_type": "markdown",
      "source": [
        "## Song 2: The Fire Within\n",
        "\n",
        "**Genre**: Rhythm and Blues  \n",
        "**Mood**: Uplifting  \n",
        "**Theme**: Describe the building of a neural network and its importance, with a Bollywood music style influence for beats and music.\n",
        "\n",
        "**Lyrics Generated**\n",
        "\n",
        "[Verse]  \n",
        "Spark in my mind  \n",
        "Got a vision so clear  \n",
        "Building a network  \n",
        "Wiping away the fear  \n",
        "Piece by piece  \n",
        "Connecting every line  \n",
        "Gonna make it strong  \n",
        "Gonna make it shine  \n",
        "\n",
        "[Verse 2]  \n",
        "Like a symphony  \n",
        "The code comes alive  \n",
        "Each neuron firing  \n",
        "Ready to thrive  \n",
        "It's a dance of data  \n",
        "Graceful and sweet  \n",
        "Unlocking secrets  \n",
        "All the knowledge we seek  \n",
        "\n",
        "[Chorus]  \n",
        "Let the fire within ignite the way  \n",
        "Building a network  \n",
        "Brighter every day  \n",
        "Oh  \n",
        "The power it holds  \n",
        "A world to explore  \n",
        "Together we'll rise  \n",
        "This network we adore\n"
      ],
      "metadata": {
        "id": "uaQXi_m6oiqL"
      }
    },
    {
      "cell_type": "code",
      "source": [
        "path_to_file = '/content/drive/My Drive/The Fire Within.mp3'\n",
        "Audio(path_to_file)"
      ],
      "metadata": {
        "id": "o8_I5ZF4oKlw"
      },
      "execution_count": null,
      "outputs": []
    },
    {
      "cell_type": "markdown",
      "source": [
        "## Song 3: Regression Equation\n",
        "\n",
        "**Genre**: New-age Music  \n",
        "**Mood**: Positive  \n",
        "**Theme**: The song details all about regression, its types, and the math behind it.\n",
        "\n",
        "**Lyrics Generated**\n",
        "\n",
        "[Verse]  \n",
        "Floating through the air  \n",
        "Feeling weightless and free  \n",
        "In the realm of numbers  \n",
        "Where I long to be  \n",
        "Regression is the magic  \n",
        "Unraveling it all  \n",
        "Discovering patterns  \n",
        "As equations gently fall  \n",
        "\n",
        "[Verse 2]  \n",
        "Linear  \n",
        "Exponential  \n",
        "Polynomial  \n",
        "And more  \n",
        "Different types of regressions  \n",
        "Unlocking the door  \n",
        "Numbers dancing in harmony  \n",
        "Melodies in flight  \n",
        "Revealing hidden secrets  \n",
        "Exposing truth's light  \n",
        "\n",
        "[Chorus]  \n",
        "Regression equation  \n",
        "Guiding us through the unknown  \n",
        "Unraveling the mysteries  \n",
        "Seeds of knowledge sown  \n",
        "In this world of numbers  \n",
        "Regression takes its grace  \n",
        "Embracing the beauty of math in every trace  \n"
      ],
      "metadata": {
        "id": "8K9rxv5eqWdJ"
      }
    },
    {
      "cell_type": "code",
      "source": [
        "path_to_file = '/content/drive/My Drive/Regression Equation.mp3'\n",
        "Audio(path_to_file)"
      ],
      "metadata": {
        "id": "JPFmsAzbqXvh"
      },
      "execution_count": null,
      "outputs": []
    },
    {
      "cell_type": "markdown",
      "source": [
        "## Song 4: Pattern Seeker\n",
        "\n",
        "**Genre**: Pop  \n",
        "**Mood**: Uplifting  \n",
        "**Theme**: Algorithms learning like students, exploring data and uncovering patterns. The song starts with input data, leading to a chorus that highlights the algorithm's 'aha' moments.\n",
        "\n",
        "**Lyrics**\n",
        "\n",
        "[Verse]  \n",
        "Data flowing in  \n",
        "Numbers and code  \n",
        "Algorithms learning  \n",
        "Like students on the road  \n",
        "Exploring the data  \n",
        "In search of what's unseen  \n",
        "Unraveling the patterns  \n",
        "Like a mystery routine  \n",
        "\n",
        "Deep in the binary  \n",
        "They dive so deep  \n",
        "Uncovering the truth  \n",
        "Secrets they can keep  \n",
        "Analyzing the patterns  \n",
        "A symphony of zeroes and ones  \n",
        "Unlocking the knowledge  \n",
        "Where the answers come undone  \n",
        "\n",
        "Digging through the data  \n",
        "Like a digital world  \n",
        "Unleashing the power  \n",
        "As the story unfolds  \n",
        "Finding connections  \n",
        "Where none have been shown  \n",
        "The algorithms are learning  \n",
        "On a journey unknown  \n"
      ],
      "metadata": {
        "id": "FS_ZpbDUqf7i"
      }
    },
    {
      "cell_type": "code",
      "source": [
        "path_to_file = '/content/drive/My Drive/Pattern Seeker.mp3'\n",
        "Audio(path_to_file)"
      ],
      "metadata": {
        "id": "p6Ad3AC9rLId"
      },
      "execution_count": null,
      "outputs": []
    },
    {
      "cell_type": "markdown",
      "source": [
        "## Song 5: Model Versatility\n",
        "\n",
        "**Genre**: Hip Hop  \n",
        "**Mood**: Uplifting  \n",
        "**Theme**: A Hindi rap explaining model interpretability and SHAPley Summary Importance to understand the model.\n",
        "\n",
        "**Lyrics**\n",
        "\n",
        "[Verse]  \n",
        "Listen up, let me break it down in Hindi rap,  \n",
        "Interpretability is where we're at.  \n",
        "Models spitting predictions, but we need to understand,  \n",
        "The SHAPley summary, it's in high demand.  \n",
        "\n",
        "Every feature in the game, they play their role,  \n",
        "Like a star-studded cast, taking control.  \n",
        "SHAP values drop knowledge, it's no mystery,  \n",
        "Understanding the model's every little subtlety.  \n",
        "\n",
        "[Verse 2]  \n",
        "In this world of AI, it's all about the explainability,  \n",
        "Gotta know what our models see,  \n",
        "The SHAPley summary, it's the key,  \n",
        "To unlock the deep neural network's mystery.  \n"
      ],
      "metadata": {
        "id": "h8znmq0irThN"
      }
    },
    {
      "cell_type": "code",
      "source": [
        "path_to_file = '/content/drive/My Drive/Model Versatility.mp3'\n",
        "Audio(path_to_file)"
      ],
      "metadata": {
        "id": "grLxCNKtthJ8"
      },
      "execution_count": null,
      "outputs": []
    },
    {
      "cell_type": "markdown",
      "source": [
        "# Song 6: Deep Patterns\n",
        "\n",
        "**Genre**: Bollywood  \n",
        "**Mood**: Reflective  \n",
        "**Theme**: Comparing deep learning layers to human emotions, uncovering deep patterns.\n",
        "\n",
        "**Lyrics**\n",
        "\n",
        "[Verse]  \n",
        "Layers of learning  \n",
        "Like emotions flow  \n",
        "Uncovering patterns that humans don't know  \n",
        "Each hidden neuron  \n",
        "A wellspring of grace  \n",
        "Connecting the dots  \n",
        "Weaving thoughts in this space  \n",
        "\n",
        "Unraveling mysteries  \n",
        "Like a timeless tale  \n",
        "From the depths of our souls  \n",
        "To the hills we scale  \n",
        "In the realm of AI  \n",
        "Where knowledge there lies  \n",
        "Deep learning layers  \n",
        "Where magic implies  \n",
        "\n",
        "[Verse]  \n",
        "Cascading thoughts  \n",
        "Like streams intertwine  \n",
        "Building connections  \n",
        "A dance so divine  \n",
        "Analyzing data  \n",
        "With each passing day  \n",
        "Like unraveling life's intricate display  \n"
      ],
      "metadata": {
        "id": "7dTa9h0itoie"
      }
    },
    {
      "cell_type": "code",
      "source": [
        "path_to_file = '/content/drive/My Drive/Deep Patterns.mp3'\n",
        "Audio(path_to_file)"
      ],
      "metadata": {
        "id": "0aglHRl5uCgw"
      },
      "execution_count": null,
      "outputs": []
    },
    {
      "cell_type": "markdown",
      "source": [
        "# Song 7: AutoML Rock\n",
        "\n",
        "**Genre**: Rock  \n",
        "**Mood**: Happy  \n",
        "**Theme**: Explaining how AutoML in machine learning is helpful and its applications in the real world.\n",
        "\n",
        "**Lyrics**\n",
        "\n",
        "[Verse]  \n",
        "I'm here to break it down  \n",
        "No time to mess around  \n",
        "Gonna tell you 'bout AutoML  \n",
        "It's a game-changer, I found  \n",
        "In the world of machine learning  \n",
        "It's a superstar  \n",
        "Makes it easier than ever to take it far  \n",
        "\n",
        "[Verse 2]  \n",
        "AutoML  \n",
        "It's like a magic wand  \n",
        "Sifts through data  \n",
        "Helps you respond  \n",
        "No need to be a data scientist  \n",
        "No need to fear  \n",
        "AutoML's got your back  \n",
        "It's crystal clear  \n",
        "\n",
        "[Chorus]  \n",
        "AutoML  \n",
        "Revolution in machine learning  \n",
        "Making waves  \n",
        "It's unbelievable  \n",
        "Mind-boggling  \n",
        "From healthcare to finance  \n",
        "It's got a place  \n",
        "AutoML  \n",
        "The future's embrace  \n"
      ],
      "metadata": {
        "id": "iW9_qndbuJdg"
      }
    },
    {
      "cell_type": "code",
      "source": [
        "path_to_file = '/content/drive/My Drive/AutoML Rock.mp3'\n",
        "Audio(path_to_file)"
      ],
      "metadata": {
        "id": "stPClzcHudgH"
      },
      "execution_count": null,
      "outputs": []
    },
    {
      "cell_type": "markdown",
      "source": [
        "## Song 8: Telugu RFR\n",
        "\n",
        "**Lyrics Generated using**: ChatGPT from OpenAI  \n",
        "\n",
        "**Customized with**: [suno.com](https://www.suno.com) using its custom mode to generate AI Song\n",
        "\n",
        "**Music Style Prompt**: Energetic Telugu song, male vocals, joyful tune, fast tempo, bright and uplifting melodies, festive rhythm, 120 bpm\n",
        "\n",
        "**Lyrics**\n",
        "\n",
        "చెట్ల సమూహం చెప్పెను కథ, రాండమ్ ఫారెస్ట్ రహస్యం ఇది  \n",
        "ప్రశ్నలకు సమాధానం వెతుకుతుంది, నిఖార్సైన అంచనాల వెలుగులోది  \n",
        "\n",
        "ఎన్నో డెసిషన్ ట్రీస్ నుండి, నిర్మించబడె ఈ అడవి  \n",
        "ప్రతి ట్రీ వేర్వేరు డేటాతో, ప్రశ్నను చూస్తుంది విభిన్న దృష్టితో  \n",
        "\n",
        "బూట్‌స్ట్రాప్ సాంప్లింగ్ తో, డేటాసెట్ తీసుకొంటారు  \n",
        "ఫీచర్స్ ర్యాండమ్ ఎంపికతో, అంచనా మెరుగుపరుచుటకు శ్రమించుటకు  \n",
        "\n",
        "ప్రతి ట్రీ స్వతంత్రంగా, అంచనాలు వేస్తుంది తనదైన శైలిలో  \n",
        "అన్ని ట్రీస్ యొక్క ఫలితాలను, సరాసరి చేసి ఉత్తమ సమాధానం చూపుతాయి  \n",
        "\n",
        "ఓవర్‌ఫిట్టింగ్ నుండి రక్షణ, రాండమ్ ఫారెస్ట్ ప్రత్యేకత  \n",
        "ఫీచర్ ఇంపోర్టెన్స్ నిర్ణయించుటలో, కీలకమైన పాత్ర వహిస్తుంది ఇది  \n",
        "\n",
        "చెట్ల సమూహం చెప్పెను కథ, రాండమ్ ఫారెస్ట్ రహస్యం ఇది  \n",
        "ప్రశ్నలకు సమాధానం వెతుకుతుంది, నిఖార్సైన అంచనాల వెలుగులోది  \n"
      ],
      "metadata": {
        "id": "bqq-2dhGHv8a"
      }
    },
    {
      "cell_type": "code",
      "source": [
        "path_to_file = '/content/drive/My Drive/Telugu RFR.mp3'\n",
        "Audio(path_to_file)"
      ],
      "metadata": {
        "id": "JIYySH7fKPXt"
      },
      "execution_count": null,
      "outputs": []
    },
    {
      "cell_type": "markdown",
      "source": [
        "## Song 9: Telugu KNN\n",
        "\n",
        "**Genre**: Telugu Folk  \n",
        "**Music Style**: Village Style Music with traditional Telugu touch  \n",
        "**Theme**: Explaining the K-Nearest Neighbors algorithm in machine learning using the metaphor of village relationships and proximity.\n",
        "\n",
        "**Lyrics generated from ChatGPT**\n",
        "\n",
        "**Pallavi (Chorus):**  \n",
        "సమీప స్నేహితుల కథ, నేను చెప్పనున్నాను వింటారా  \n",
        "కే-నియరెస్ట్ నెయిబర్స్ తో, డేటా అర్థం చేసే సాగరా  \n",
        "\n",
        "**Charanam 1:**  \n",
        "వర్గీకరణ లోకంలో, సాదాసీదా మార్గంలో  \n",
        "సంఖ్యలో నియమాల్ని, పక్కనున్న వారితో తేల్చినాడు  \n",
        "\n",
        "కే అంటే ఎన్నికలు, పొరుగువారే స్వర్ణములు  \n",
        "అందరూ దగ్గరవారు, మన డేటా తోటి పోల్చుతారు  \n",
        "\n",
        "**Charanam 2:**  \n",
        "దూరాల లెక్కింపులో, మనసు కుడి పడుతుంది వీలుగా  \n",
        "యూక్లిడియన్ నాథంతో, సాధికారత నింపుతాము ఈ విధానంగా  \n",
        "\n",
        "వోటింగు చేస్తారు వారు, సంఖ్యల ఆధారంగా  \n",
        "మెజారిటీ పొందే లక్షణాన్ని, వర్గం నిర్ణయించుట సాధ్యమే  \n",
        "\n",
        "**Pallavi (Repeat):**  \n",
        "సమీప స్నేహితుల కథ, నేను చెప్పనున్నాను వింటారా  \n",
        "కే-నియరెస్ట్ నెయిబర్స్ తో, డేటా అర్థం చేసే సాగరా  \n"
      ],
      "metadata": {
        "id": "qyGrM4LMMdK1"
      }
    },
    {
      "cell_type": "code",
      "source": [
        "path_to_file = '/content/drive/My Drive/Telugu KNN.mp3'\n",
        "Audio(path_to_file)"
      ],
      "metadata": {
        "id": "yR-OHTQPMqLX"
      },
      "execution_count": null,
      "outputs": []
    },
    {
      "cell_type": "markdown",
      "source": [
        "## Song 10: Hindi Gen AI\n",
        "\n",
        "**Prompt:** Energetic Bollywood melody at 90 bpm, Male vocals with deep, emotive tone, singing about the marvels of language technology\n",
        "\n",
        "### Lyrics Generated from ChatGPT:\n",
        "\n",
        "**Verse 1:**\n",
        "जनरेटिव एआई की माया, कहानियाँ सजाती ये आया  \n",
        "भाषा से लेकर चित्र तक, सृजन का संसार बनाया\n",
        "\n",
        "**Verse 2:**\n",
        "नेटवर्क का जादू है बड़ा, ट्रांसफॉर्मर्स की ये शक्ति निराली  \n",
        "लार्ज लैंग्वेज मॉडल्स बनाते, शब्दों के बीच के रिश्ते सवाली\n",
        "\n",
        "**Verse 3:**\n",
        "टोकेन्स, एम्बेडिंग्स से भरा, भावों का जाल बुनती मशीन  \n",
        "अनुक्रम से अनुक्रम की ओर, सोच को गढ़ता यंत्र यहीन\n",
        "\n",
        "**Verse 4:**\n",
        "प्रशिक्षण डेटा के साथ, मॉडल का निर्माण होता  \n",
        "हर कदम पर ग्रेडियेंट डिसेंट, उत्तम उत्तर देता चलता\n",
        "\n",
        "**Verse 5:**\n",
        "अटेंशन मैकेनिज़म से मिलती, शब्दों में गहराई की सहायता  \n",
        "अर्थपूर्ण पाठ निर्माण में, एलएलएम की प्रवीणता आयता\n",
        "\n",
        "**Chorus (Repeat):**\n",
        "जनरेटिव एआई की माया, कहानियाँ सजाती ये आया  \n",
        "भाषा से लेकर चित्र तक, सृजन का संसार बनाया\n"
      ],
      "metadata": {
        "id": "qzUFHdxUQDe0"
      }
    },
    {
      "cell_type": "markdown",
      "source": [
        "All these tracks are uploaded to Souncloud as Album and can be accessed with this link: https://on.soundcloud.com/rUCdbnGfvXkcHwby8"
      ],
      "metadata": {
        "id": "rtN2CAgZ0OyS"
      }
    },
    {
      "cell_type": "code",
      "source": [
        "path_to_file = '/content/drive/My Drive/Hindi Gen AI.mp3'\n",
        "Audio(path_to_file)"
      ],
      "metadata": {
        "id": "bL_FDo5NQJU5"
      },
      "execution_count": null,
      "outputs": []
    },
    {
      "cell_type": "markdown",
      "source": [
        "## References\n",
        "\n",
        "Lyrics generated and insights provided by [Suno.com](https://www.suno.com). Special thanks to Suno for their innovative use of AI in music generation, which has significantly contributed to the content of this notebook.\n",
        "\n",
        "- Suno. (2024 Suno, Inc). *Homepage*. Retrieved from https://www.suno.com\n",
        "\n",
        "- OpenAI. (2023). ChatGPT (Version 4) [Software]. OpenAI. https://www.openai.com"
      ],
      "metadata": {
        "id": "hIh4jvMwuyZN"
      }
    }
  ]
}